{
  "nbformat": 4,
  "nbformat_minor": 0,
  "metadata": {
    "colab": {
      "name": "训练一个图像分类器.ipynb",
      "version": "0.3.2",
      "provenance": [],
      "collapsed_sections": [],
      "include_colab_link": true
    },
    "kernelspec": {
      "name": "python3",
      "display_name": "Python 3"
    }
  },
  "cells": [
    {
      "cell_type": "markdown",
      "metadata": {
        "id": "view-in-github",
        "colab_type": "text"
      },
      "source": [
        "<a href=\"https://colab.research.google.com/github/yeanchi/pytorch-learning/blob/master/%E8%AE%AD%E7%BB%83%E4%B8%80%E4%B8%AA%E5%9B%BE%E5%83%8F%E5%88%86%E7%B1%BB%E5%99%A8.ipynb\" target=\"_parent\"><img src=\"https://colab.research.google.com/assets/colab-badge.svg\" alt=\"Open In Colab\"/></a>"
      ]
    },
    {
      "metadata": {
        "id": "sXLB_3r7Rwy8",
        "colab_type": "text"
      },
      "cell_type": "markdown",
      "source": [
        "## 用 PyTorch 对 CIFAR10 数据集训练一个图像分类器\n",
        "\n",
        "- 使用CIFAR10 数据集以及归一化数据集\n",
        "- 定义卷积神经网络模型\n",
        "- 在训练集上训练网络\n",
        "- 在验证集上测试网络"
      ]
    },
    {
      "metadata": {
        "id": "v7aakhdYV2Xq",
        "colab_type": "text"
      },
      "cell_type": "markdown",
      "source": [
        "### 加载 CIFAR10 数据集\n",
        "\n",
        "torchvision包可以直接使用数据集、模型架构，和计算机视觉常见的图像转换。\n",
        "\n"
      ]
    },
    {
      "metadata": {
        "id": "chM-a0n4V1nL",
        "colab_type": "code",
        "colab": {}
      },
      "cell_type": "code",
      "source": [
        "import torch\n",
        "import torchvision\n",
        "import torchvision.transforms as transforms"
      ],
      "execution_count": 0,
      "outputs": []
    },
    {
      "metadata": {
        "id": "tw9689x9WSrg",
        "colab_type": "text"
      },
      "cell_type": "markdown",
      "source": [
        "transforms.Compose\n"
      ]
    },
    {
      "metadata": {
        "id": "ziMtArzvePvw",
        "colab_type": "code",
        "colab": {}
      },
      "cell_type": "code",
      "source": [
        "transform = transforms.Compose(\n",
        "    [transforms.ToTensor(),\n",
        "     transforms.Normalize((0.5,0.5,0.5),(0.5,0.5,0.5))])"
      ],
      "execution_count": 0,
      "outputs": []
    },
    {
      "metadata": {
        "id": "bAzfk_aNeyqv",
        "colab_type": "text"
      },
      "cell_type": "markdown",
      "source": [
        "\n",
        "\n",
        "- torchvision.datasets : 下载数据集,将数据和标签分开，并且传入transform让图像数据变得可加载以及归一化。\n",
        "- torch.utils.data.DataLoader：让数据形成小批次。设置数据随机洗牌，子进程数等操作。"
      ]
    },
    {
      "metadata": {
        "id": "G4GDMiVBBaXs",
        "colab_type": "code",
        "colab": {}
      },
      "cell_type": "code",
      "source": [
        ""
      ],
      "execution_count": 0,
      "outputs": []
    },
    {
      "metadata": {
        "id": "RuvTXQIeS_Zz",
        "colab_type": "code",
        "outputId": "f08ad00b-83fc-4bc9-e6e7-bf4c9c21f096",
        "colab": {
          "base_uri": "https://localhost:8080/",
          "height": 51
        }
      },
      "cell_type": "code",
      "source": [
        "trainset = torchvision.datasets.CIFAR10(root ='./data', \n",
        "                                        train = True,\n",
        "                                        download = True,\n",
        "                                        transform = transform)\n",
        "\n",
        "\n",
        "trainloader = torch.utils.data.DataLoader(trainset,batch_size = 5,\n",
        "                                       shuffle = True, num_workers = 2)\n",
        "\n",
        "testset = torchvision.datasets.CIFAR10(root = './data',\n",
        "                                      train = False,\n",
        "                                      download = True,\n",
        "                                      transform = transform)\n",
        "\n",
        "testloader = torch.utils.data.DataLoader(testset, batch_size = 4,\n",
        "                                         shuffle = True,num_workers = 2)\n",
        "\n",
        "classes = ('plane', 'car', 'bird', 'cat',\n",
        "           'deer', 'dog', 'frog', 'horse', 'ship', 'truck')"
      ],
      "execution_count": 0,
      "outputs": [
        {
          "output_type": "stream",
          "text": [
            "Files already downloaded and verified\n",
            "Files already downloaded and verified\n"
          ],
          "name": "stdout"
        }
      ]
    },
    {
      "metadata": {
        "id": "_XomL9bXzB5j",
        "colab_type": "text"
      },
      "cell_type": "markdown",
      "source": [
        "### 定义神经网络模型"
      ]
    },
    {
      "metadata": {
        "id": "7WYWKKQ6yhwj",
        "colab_type": "code",
        "colab": {}
      },
      "cell_type": "code",
      "source": [
        "model = torchvision.models.resnet18(pretrained=True)"
      ],
      "execution_count": 0,
      "outputs": []
    },
    {
      "metadata": {
        "id": "fbfr9_bEFhuS",
        "colab_type": "text"
      },
      "cell_type": "markdown",
      "source": [
        "### 重置最终完全连接的图层"
      ]
    },
    {
      "metadata": {
        "id": "5chpGHqpFh9w",
        "colab_type": "code",
        "colab": {}
      },
      "cell_type": "code",
      "source": [
        "num_ftrs = model.fc.in_features\n",
        "model.fc = nn.Linear(num_ftrs, len(classes))"
      ],
      "execution_count": 0,
      "outputs": []
    },
    {
      "metadata": {
        "id": "flxvinkI5ocw",
        "colab_type": "text"
      },
      "cell_type": "markdown",
      "source": [
        "### 额外准备，设置模型和数据到硬件设备"
      ]
    },
    {
      "metadata": {
        "id": "bVQjJSSN5om_",
        "colab_type": "code",
        "colab": {}
      },
      "cell_type": "code",
      "source": [
        "device = torch.device(\"cuda:0\" if torch.cuda.is_available() else \"cpu\")\n",
        "\n",
        "model = model.to(device)\n"
      ],
      "execution_count": 0,
      "outputs": []
    },
    {
      "metadata": {
        "id": "C5FqlqMRA0HB",
        "colab_type": "text"
      },
      "cell_type": "markdown",
      "source": [
        "### 定义损失函数（损失度量）"
      ]
    },
    {
      "metadata": {
        "id": "72-7grjJCY-b",
        "colab_type": "code",
        "colab": {}
      },
      "cell_type": "code",
      "source": [
        "import torch.nn as nn"
      ],
      "execution_count": 0,
      "outputs": []
    },
    {
      "metadata": {
        "id": "otsUDSZ5A0Zg",
        "colab_type": "code",
        "colab": {}
      },
      "cell_type": "code",
      "source": [
        "loss_func = nn.CrossEntropyLoss()"
      ],
      "execution_count": 0,
      "outputs": []
    },
    {
      "metadata": {
        "id": "fvV3dgNa-qht",
        "colab_type": "text"
      },
      "cell_type": "markdown",
      "source": [
        "### 定义优化器\n"
      ]
    },
    {
      "metadata": {
        "id": "7HG7BbpU-pp1",
        "colab_type": "code",
        "colab": {}
      },
      "cell_type": "code",
      "source": [
        "import torch.optim as optim\n",
        "\n",
        "opt = optim.SGD(model.parameters(), lr=0.001, momentum=0.9)"
      ],
      "execution_count": 0,
      "outputs": []
    },
    {
      "metadata": {
        "id": "KdlRkdo2G3Jl",
        "colab_type": "text"
      },
      "cell_type": "markdown",
      "source": [
        "### 定义训练函数"
      ]
    },
    {
      "metadata": {
        "id": "Izy79qo7EoAy",
        "colab_type": "code",
        "colab": {}
      },
      "cell_type": "code",
      "source": [
        "当我们有了:\n",
        "\n",
        "- 模型\n",
        "- 损失函数\n",
        "- 优化器\n",
        "- 迭代数\n",
        "\n",
        "就可以定义训练模型的时间了。\n",
        "函数主要功能：\n",
        "\n",
        "- 打印出每次迭代的实践\n",
        "- 每次迭代后的训练集损失\n",
        "- 每次迭代后的准确率\n",
        "- 保存迭代后效果最好的模型\n"
      ],
      "execution_count": 0,
      "outputs": []
    },
    {
      "metadata": {
        "id": "mqIveG1MGKJl",
        "colab_type": "code",
        "colab": {}
      },
      "cell_type": "code",
      "source": [
        "import time\n",
        "import os\n",
        "import copy"
      ],
      "execution_count": 0,
      "outputs": []
    },
    {
      "metadata": {
        "id": "6AJTGHEWG3UD",
        "colab_type": "code",
        "colab": {}
      },
      "cell_type": "code",
      "source": [
        "def train_model(model, dataloaders, criterion, optimizer, scheduler, num_epochs=5):\n",
        "    since = time.time()\n",
        "    \n",
        "    best_model_wts = copy.deepcopy(model.state_dict())\n",
        "    # 拷贝当前模型的参数\n",
        "    best_acc = 0.0\n",
        "    \n",
        "    for epoch in range(num_epochs):\n",
        "        print('Epoch {}/{}').format(epoch, num_epochs - 1))\n",
        "        # 打印出当前迭代数\n",
        "        print('-' * 10)\n",
        "        \n",
        "        for phase in ['train', 'val']:\n",
        "            if phase == \"train\":\n",
        "                model.train()\n",
        "            else:\n",
        "                model.train()\n",
        "              \n",
        "            running_loss = 0.0\n",
        "            running_corrects = 0\n",
        "          \n",
        "            for inputs, labels in dataloaders[phase]\n",
        "                inputs = inputs.to(device)\n",
        "                labels = label.to(device)\n",
        "                \n",
        "                optimizer.zero_grad()"
      ],
      "execution_count": 0,
      "outputs": []
    },
    {
      "metadata": {
        "id": "yLRZ_gbC-9dn",
        "colab_type": "text"
      },
      "cell_type": "markdown",
      "source": [
        "### 训练"
      ]
    },
    {
      "metadata": {
        "id": "mAl90V_TG11V",
        "colab_type": "code",
        "colab": {}
      },
      "cell_type": "code",
      "source": [
        ""
      ],
      "execution_count": 0,
      "outputs": []
    },
    {
      "metadata": {
        "id": "TRG4qliYHl4u",
        "colab_type": "code",
        "colab": {}
      },
      "cell_type": "code",
      "source": [
        "epochs = 10"
      ],
      "execution_count": 0,
      "outputs": []
    },
    {
      "metadata": {
        "id": "FAoUaLjp-n5P",
        "colab_type": "code",
        "colab": {}
      },
      "cell_type": "code",
      "source": [
        "fit = ft(epochs, model, loss_func, opt, train_dl, valid_dl)"
      ],
      "execution_count": 0,
      "outputs": []
    },
    {
      "metadata": {
        "id": "JMZLDQwmCsty",
        "colab_type": "code",
        "colab": {}
      },
      "cell_type": "code",
      "source": [
        ""
      ],
      "execution_count": 0,
      "outputs": []
    }
  ]
}